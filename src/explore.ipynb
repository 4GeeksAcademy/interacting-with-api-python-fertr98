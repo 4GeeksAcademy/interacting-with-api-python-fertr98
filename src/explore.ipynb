{
    "cells": [
        {
            "cell_type": "markdown",
            "metadata": {},
            "source": [
                "# Explore here"
            ]
        },
        {
            "cell_type": "code",
            "execution_count": null,
            "metadata": {},
            "outputs": [],
            "source": [
                "import os\n",
                "import pandas as pd\n",
                "import seaborn as sns\n",
                "from dotenv import load_dotenv\n",
                "\n",
                "# load the .env file variables\n",
                "load_dotenv()\n",
                "\n"
            ]
        },
        {
            "cell_type": "code",
            "execution_count": null,
            "metadata": {},
            "outputs": [],
            "source": [
                "import requests\n",
                "from spotipy import Spotify\n",
                "from spotipy.oauth2 import SpotifyClientCredentials\n",
                "import pandas as pd\n",
                "from sqlalchemy import create_engine\n",
                "\n",
                "# Credenciales de la API de Spotify\n",
                "CLIENT_ID = 'tu_client_id'\n",
                "CLIENT_SECRET = 'tu_client_secret'\n",
                "\n",
                "# Autenticación con la API de Spotify\n",
                "client_credentials_manager = SpotifyClientCredentials(client_id=CLIENT_ID, client_secret=CLIENT_SECRET)\n",
                "sp = Spotify(client_credentials_manager=client_credentials_manager)\n",
                "\n",
                "# Función para obtener las pistas más populares de un artista\n",
                "def get_artist_top_tracks(artist_id):\n",
                "    results = sp.artist_top_tracks(artist_id)\n",
                "    tracks = []\n",
                "    for track in results['tracks']:\n",
                "        track_info = {\n",
                "            'name': track['name'],\n",
                "            'popularity': track['popularity'],\n",
                "            'album': track['album']['name'],\n",
                "            'release_date': track['album']['release_date'],\n",
                "            'uri': track['uri']\n",
                "        }\n",
                "        tracks.append(track_info)\n",
                "    return pd.DataFrame(tracks)\n",
                "\n",
                "# Ejemplo: Recuperar las pistas más populares de un artista específico\n",
                "artist_id = 'tu_artist_id'\n",
                "df_tracks = get_artist_top_tracks(artist_id)\n",
                "\n",
                "# Crear una conexión a la base de datos\n",
                "engine = create_engine('sqlite:///spotify_data.db')\n",
                "\n",
                "# Guardar el DataFrame en la base de datos\n",
                "df_tracks.to_sql('top_tracks', engine, index=False, if_exists='replace')\n",
                "\n",
                "print(\"Datos guardados en la base de datos con éxito.\")\n"
            ]
        }
    ],
    "metadata": {
        "kernelspec": {
            "display_name": "Python 3.8.13 64-bit ('3.8.13')",
            "language": "python",
            "name": "python3"
        },
        "language_info": {
            "codemirror_mode": {
                "name": "ipython",
                "version": 3
            },
            "file_extension": ".py",
            "mimetype": "text/x-python",
            "name": "python",
            "nbconvert_exporter": "python",
            "pygments_lexer": "ipython3",
            "version": "3.8.13"
        },
        "orig_nbformat": 4,
        "vscode": {
            "interpreter": {
                "hash": "110cc1dee26208153f2972f08a2ad52b6a56238dc66d48e87fb757ef2996db56"
            }
        }
    },
    "nbformat": 4,
    "nbformat_minor": 2
}
